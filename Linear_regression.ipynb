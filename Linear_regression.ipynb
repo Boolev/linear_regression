{
  "nbformat": 4,
  "nbformat_minor": 0,
  "metadata": {
    "colab": {
      "provenance": [],
      "collapsed_sections": [],
      "toc_visible": true
    },
    "kernelspec": {
      "name": "python3",
      "display_name": "Python 3"
    },
    "language_info": {
      "name": "python"
    },
    "accelerator": "TPU",
    "gpuClass": "standard"
  },
  "cells": [
    {
      "cell_type": "code",
      "execution_count": 61,
      "metadata": {
        "id": "4ByBC995JcLP"
      },
      "outputs": [],
      "source": [
        "import numpy as np\n",
        "import matplotlib.pyplot as plt\n",
        "import random"
      ]
    },
    {
      "cell_type": "code",
      "source": [
        "plt.rcParams[\"figure.figsize\"] = (16, 8)\n",
        "rnd = random.random"
      ],
      "metadata": {
        "id": "CjEhsTApLN1O"
      },
      "execution_count": 62,
      "outputs": []
    },
    {
      "cell_type": "code",
      "source": [
        "def plot_data(data, line=None, color_data='orange', color_line='blue'):\n",
        "  data_length = len(data)\n",
        "\n",
        "  x = [data[i][0] for i in range(data_length)]\n",
        "  y = [data[i][1] for i in range(data_length)]\n",
        "\n",
        "  plt.scatter(x, y, color=color_data)\n",
        "  if line:\n",
        "    plt.plot(line[0], line[1], color=color_line)\n",
        "  plt.show()\n",
        "  return"
      ],
      "metadata": {
        "id": "rvTYNge31_sK"
      },
      "execution_count": 63,
      "outputs": []
    },
    {
      "cell_type": "code",
      "source": [
        "def generate_data(n):\n",
        "  slope = rnd() * 20 - 10\n",
        "  intercept = rnd() * 20 - 10\n",
        "\n",
        "  get_random_delta = lambda: rnd() - 0.5\n",
        "\n",
        "  x = np.array([i + get_random_delta() for i in range(n)])\n",
        "  x = x / max(x)\n",
        "\n",
        "  y = np.array([slope * i + intercept + get_random_delta() for i in x])\n",
        "  y = y / max(y)\n",
        "\n",
        "  return [(x[i], y[i]) for i in range(n)]"
      ],
      "metadata": {
        "id": "k8cnncdfvgi6"
      },
      "execution_count": 64,
      "outputs": []
    },
    {
      "cell_type": "code",
      "source": [
        "def loss_function(k, b, data):\n",
        "  total_error = 0\n",
        "  data_length = len(data)\n",
        "\n",
        "  for i in range(data_length):\n",
        "    x = data[i][0]\n",
        "    y = data[i][1]\n",
        "\n",
        "    total_error += (y - k * x - b) ** 2\n",
        "  \n",
        "  total_error /= data_length\n",
        "  return total_error"
      ],
      "metadata": {
        "id": "2jiZq700VH8o"
      },
      "execution_count": 65,
      "outputs": []
    },
    {
      "cell_type": "code",
      "source": [
        "def gradient_descent(k_prev, b_prev, data, lr):\n",
        "  k_grad = 0\n",
        "  b_grad = 0\n",
        "\n",
        "  data_length = len(data)\n",
        "\n",
        "  for i in range(data_length):\n",
        "    x = data[i][0]\n",
        "    y = data[i][1]\n",
        "\n",
        "    k_grad += -(2 / data_length) * x * (y - (k_prev * x + b_prev))\n",
        "    b_grad += -(2 / data_length) * (y - (k_prev * x + b_prev))\n",
        "  \n",
        "  k_current = k_prev - lr * k_grad\n",
        "  b_current = b_prev - lr * b_grad\n",
        "\n",
        "  return k_current, b_current"
      ],
      "metadata": {
        "id": "vcE7cETNcFsX"
      },
      "execution_count": 66,
      "outputs": []
    },
    {
      "cell_type": "code",
      "source": [
        "def train(data, epochs, learning_rate):\n",
        "  k = 0\n",
        "  b = 0\n",
        "\n",
        "  losses = []\n",
        "\n",
        "  for i in range(epochs):\n",
        "    k, b = gradient_descent(k, b, data, learning_rate)\n",
        "    \n",
        "    loss = loss_function(k, b, data)\n",
        "    losses.append(loss)\n",
        "\n",
        "    if (i + 1) % 20 == 0:\n",
        "      print(f'Epoch №{i + 1} done\\nLoss: {round(loss, 4)}\\n')\n",
        "\n",
        "  return k, b, losses"
      ],
      "metadata": {
        "id": "s6eqsuZke1V3"
      },
      "execution_count": 67,
      "outputs": []
    },
    {
      "cell_type": "markdown",
      "source": [
        "-----------"
      ],
      "metadata": {
        "id": "_ZadFNEUo1--"
      }
    },
    {
      "cell_type": "code",
      "source": [
        "data = generate_data(100)\n",
        "plot_data(data)"
      ],
      "metadata": {
        "colab": {
          "base_uri": "https://localhost:8080/",
          "height": 483
        },
        "id": "NS3ooJMBKCzO",
        "outputId": "2406f093-c403-4066-fec8-6a3f563cf3b2"
      },
      "execution_count": 171,
      "outputs": [
        {
          "output_type": "display_data",
          "data": {
            "text/plain": [
              "<Figure size 1152x576 with 1 Axes>"
            ],
            "image/png": "[encoded data removed]"
          },
          "metadata": {
            "needs_background": "light"
          }
        }
      ]
    },
    {
      "cell_type": "code",
      "source": [
        "slope, intercept, losses = train(data, 300, 0.1)\n",
        "\n",
        "print('-----------\\n\\nLoss change')\n",
        "plt.plot(losses)\n",
        "plt.show()"
      ],
      "metadata": {
        "colab": {
          "base_uri": "https://localhost:8080/",
          "height": 1000
        },
        "id": "ZqqJgimdo7at",
        "outputId": "b588887a-6554-403d-d1df-9c5468af3e3f"
      },
      "execution_count": 172,
      "outputs": [
        {
          "output_type": "stream",
          "name": "stdout",
          "text": [
            "Epoch №20 done\n",
            "Loss: 0.0112\n",
            "\n",
            "Epoch №40 done\n",
            "Loss: 0.0086\n",
            "\n",
            "Epoch №60 done\n",
            "Loss: 0.0071\n",
            "\n",
            "Epoch №80 done\n",
            "Loss: 0.0062\n",
            "\n",
            "Epoch №100 done\n",
            "Loss: 0.0057\n",
            "\n",
            "Epoch №120 done\n",
            "Loss: 0.0054\n",
            "\n",
            "Epoch №140 done\n",
            "Loss: 0.0052\n",
            "\n",
            "Epoch №160 done\n",
            "Loss: 0.0051\n",
            "\n",
            "Epoch №180 done\n",
            "Loss: 0.0051\n",
            "\n",
            "Epoch №200 done\n",
            "Loss: 0.005\n",
            "\n",
            "Epoch №220 done\n",
            "Loss: 0.005\n",
            "\n",
            "Epoch №240 done\n",
            "Loss: 0.005\n",
            "\n",
            "Epoch №260 done\n",
            "Loss: 0.005\n",
            "\n",
            "Epoch №280 done\n",
            "Loss: 0.005\n",
            "\n",
            "Epoch №300 done\n",
            "Loss: 0.005\n",
            "\n",
            "-----------\n",
            "\n",
            "Loss change\n"
          ]
        },
        {
          "output_type": "display_data",
          "data": {
            "text/plain": [
              "<Figure size 1152x576 with 1 Axes>"
            ],
            "image/png": "[encoded data removed]"
          },
          "metadata": {
            "needs_background": "light"
          }
        }
      ]
    },
    {
      "cell_type": "code",
      "source": [
        "line_x = [0, 1]\n",
        "line_y = [slope * x + intercept for x in line_x]\n",
        "\n",
        "plot_data(data, line=(line_x, line_y))"
      ],
      "metadata": {
        "colab": {
          "base_uri": "https://localhost:8080/",
          "height": 483
        },
        "id": "2OjJeYqstCo5",
        "outputId": "dda65920-ac31-4764-8d45-9bf4536bf2c8"
      },
      "execution_count": 173,
      "outputs": [
        {
          "output_type": "display_data",
          "data": {
            "text/plain": [
              "<Figure size 1152x576 with 1 Axes>"
            ],
            "image/png": "[encoded data removed]"
          },
          "metadata": {
            "needs_background": "light"
          }
        }
      ]
    }
  ]
}